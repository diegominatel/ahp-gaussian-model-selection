{
 "cells": [
  {
   "cell_type": "code",
   "execution_count": 1,
   "id": "d108bb4c",
   "metadata": {},
   "outputs": [],
   "source": [
    "import pandas as pd\n",
    "import sys\n",
    "import warnings\n",
    "\n",
    "from analysis import report_results, statistical, cd \n",
    "\n",
    "# Supress all warnings\n",
    "warnings.filterwarnings(\"ignore\")"
   ]
  },
  {
   "cell_type": "markdown",
   "id": "f61d3751",
   "metadata": {},
   "source": [
    "# Reports"
   ]
  },
  {
   "cell_type": "markdown",
   "id": "c5df3b3b",
   "metadata": {},
   "source": [
    "### Average by classification algorithm"
   ]
  },
  {
   "cell_type": "code",
   "execution_count": 2,
   "id": "0e57f594",
   "metadata": {
    "scrolled": false
   },
   "outputs": [
    {
     "data": {
      "text/html": [
       "<div>\n",
       "<style scoped>\n",
       "    .dataframe tbody tr th:only-of-type {\n",
       "        vertical-align: middle;\n",
       "    }\n",
       "\n",
       "    .dataframe tbody tr th {\n",
       "        vertical-align: top;\n",
       "    }\n",
       "\n",
       "    .dataframe thead th {\n",
       "        text-align: right;\n",
       "    }\n",
       "</style>\n",
       "<table border=\"1\" class=\"dataframe\">\n",
       "  <thead>\n",
       "    <tr style=\"text-align: right;\">\n",
       "      <th></th>\n",
       "      <th></th>\n",
       "      <th>f1_macro</th>\n",
       "      <th>ratio_f1_macro</th>\n",
       "      <th>ratio_selection_rate</th>\n",
       "      <th>ratio_recall</th>\n",
       "      <th>ratio_odds</th>\n",
       "    </tr>\n",
       "    <tr>\n",
       "      <th>Config</th>\n",
       "      <th>Selection</th>\n",
       "      <th></th>\n",
       "      <th></th>\n",
       "      <th></th>\n",
       "      <th></th>\n",
       "      <th></th>\n",
       "    </tr>\n",
       "  </thead>\n",
       "  <tbody>\n",
       "    <tr>\n",
       "      <th rowspan=\"3\" valign=\"top\">ad</th>\n",
       "      <th>AHP-G.</th>\n",
       "      <td>0.7185</td>\n",
       "      <td>0.8931</td>\n",
       "      <td>0.7648</td>\n",
       "      <td>0.8458</td>\n",
       "      <td>0.7488</td>\n",
       "    </tr>\n",
       "    <tr>\n",
       "      <th>MCPM</th>\n",
       "      <td>0.7145</td>\n",
       "      <td>0.8892</td>\n",
       "      <td>0.7545</td>\n",
       "      <td>0.8358</td>\n",
       "      <td>0.7371</td>\n",
       "    </tr>\n",
       "    <tr>\n",
       "      <th>SAC</th>\n",
       "      <td>0.7166</td>\n",
       "      <td>0.8920</td>\n",
       "      <td>0.7578</td>\n",
       "      <td>0.8404</td>\n",
       "      <td>0.7394</td>\n",
       "    </tr>\n",
       "    <tr>\n",
       "      <th rowspan=\"3\" valign=\"top\">dt</th>\n",
       "      <th>AHP-G.</th>\n",
       "      <td>0.6989</td>\n",
       "      <td>0.9022</td>\n",
       "      <td>0.6908</td>\n",
       "      <td>0.8399</td>\n",
       "      <td>0.7028</td>\n",
       "    </tr>\n",
       "    <tr>\n",
       "      <th>MCPM</th>\n",
       "      <td>0.7041</td>\n",
       "      <td>0.9052</td>\n",
       "      <td>0.6767</td>\n",
       "      <td>0.8316</td>\n",
       "      <td>0.6891</td>\n",
       "    </tr>\n",
       "    <tr>\n",
       "      <th>SAC</th>\n",
       "      <td>0.6988</td>\n",
       "      <td>0.9008</td>\n",
       "      <td>0.6858</td>\n",
       "      <td>0.8404</td>\n",
       "      <td>0.6983</td>\n",
       "    </tr>\n",
       "    <tr>\n",
       "      <th rowspan=\"3\" valign=\"top\">knn</th>\n",
       "      <th>AHP-G.</th>\n",
       "      <td>0.6703</td>\n",
       "      <td>0.9422</td>\n",
       "      <td>0.6819</td>\n",
       "      <td>0.8546</td>\n",
       "      <td>0.7069</td>\n",
       "    </tr>\n",
       "    <tr>\n",
       "      <th>MCPM</th>\n",
       "      <td>0.6692</td>\n",
       "      <td>0.9404</td>\n",
       "      <td>0.6831</td>\n",
       "      <td>0.8550</td>\n",
       "      <td>0.7081</td>\n",
       "    </tr>\n",
       "    <tr>\n",
       "      <th>SAC</th>\n",
       "      <td>0.6692</td>\n",
       "      <td>0.9404</td>\n",
       "      <td>0.6831</td>\n",
       "      <td>0.8550</td>\n",
       "      <td>0.7081</td>\n",
       "    </tr>\n",
       "    <tr>\n",
       "      <th rowspan=\"3\" valign=\"top\">mlp</th>\n",
       "      <th>AHP-G.</th>\n",
       "      <td>0.7350</td>\n",
       "      <td>0.9305</td>\n",
       "      <td>0.6517</td>\n",
       "      <td>0.8496</td>\n",
       "      <td>0.6848</td>\n",
       "    </tr>\n",
       "    <tr>\n",
       "      <th>MCPM</th>\n",
       "      <td>0.7361</td>\n",
       "      <td>0.9289</td>\n",
       "      <td>0.6506</td>\n",
       "      <td>0.8466</td>\n",
       "      <td>0.6812</td>\n",
       "    </tr>\n",
       "    <tr>\n",
       "      <th>SAC</th>\n",
       "      <td>0.7361</td>\n",
       "      <td>0.9293</td>\n",
       "      <td>0.6644</td>\n",
       "      <td>0.8386</td>\n",
       "      <td>0.6702</td>\n",
       "    </tr>\n",
       "    <tr>\n",
       "      <th rowspan=\"3\" valign=\"top\">rf</th>\n",
       "      <th>AHP-G.</th>\n",
       "      <td>0.7462</td>\n",
       "      <td>0.9371</td>\n",
       "      <td>0.6232</td>\n",
       "      <td>0.8640</td>\n",
       "      <td>0.6863</td>\n",
       "    </tr>\n",
       "    <tr>\n",
       "      <th>MCPM</th>\n",
       "      <td>0.7461</td>\n",
       "      <td>0.9279</td>\n",
       "      <td>0.6145</td>\n",
       "      <td>0.8507</td>\n",
       "      <td>0.6702</td>\n",
       "    </tr>\n",
       "    <tr>\n",
       "      <th>SAC</th>\n",
       "      <td>0.7461</td>\n",
       "      <td>0.9279</td>\n",
       "      <td>0.6145</td>\n",
       "      <td>0.8507</td>\n",
       "      <td>0.6702</td>\n",
       "    </tr>\n",
       "    <tr>\n",
       "      <th rowspan=\"3\" valign=\"top\">svm</th>\n",
       "      <th>AHP-G.</th>\n",
       "      <td>0.6888</td>\n",
       "      <td>0.9419</td>\n",
       "      <td>0.6513</td>\n",
       "      <td>0.7789</td>\n",
       "      <td>0.6806</td>\n",
       "    </tr>\n",
       "    <tr>\n",
       "      <th>MCPM</th>\n",
       "      <td>0.6788</td>\n",
       "      <td>0.9389</td>\n",
       "      <td>0.6356</td>\n",
       "      <td>0.7927</td>\n",
       "      <td>0.6540</td>\n",
       "    </tr>\n",
       "    <tr>\n",
       "      <th>SAC</th>\n",
       "      <td>0.6788</td>\n",
       "      <td>0.9389</td>\n",
       "      <td>0.6356</td>\n",
       "      <td>0.7927</td>\n",
       "      <td>0.6540</td>\n",
       "    </tr>\n",
       "    <tr>\n",
       "      <th rowspan=\"3\" valign=\"top\">xgb</th>\n",
       "      <th>AHP-G.</th>\n",
       "      <td>0.7516</td>\n",
       "      <td>0.9467</td>\n",
       "      <td>0.6281</td>\n",
       "      <td>0.8659</td>\n",
       "      <td>0.6990</td>\n",
       "    </tr>\n",
       "    <tr>\n",
       "      <th>MCPM</th>\n",
       "      <td>0.7537</td>\n",
       "      <td>0.9419</td>\n",
       "      <td>0.6248</td>\n",
       "      <td>0.8580</td>\n",
       "      <td>0.7099</td>\n",
       "    </tr>\n",
       "    <tr>\n",
       "      <th>SAC</th>\n",
       "      <td>0.7532</td>\n",
       "      <td>0.9431</td>\n",
       "      <td>0.6259</td>\n",
       "      <td>0.8580</td>\n",
       "      <td>0.7109</td>\n",
       "    </tr>\n",
       "  </tbody>\n",
       "</table>\n",
       "</div>"
      ],
      "text/plain": [
       "                  f1_macro  ratio_f1_macro  ratio_selection_rate  \\\n",
       "Config Selection                                                   \n",
       "ad     AHP-G.       0.7185          0.8931                0.7648   \n",
       "       MCPM         0.7145          0.8892                0.7545   \n",
       "       SAC          0.7166          0.8920                0.7578   \n",
       "dt     AHP-G.       0.6989          0.9022                0.6908   \n",
       "       MCPM         0.7041          0.9052                0.6767   \n",
       "       SAC          0.6988          0.9008                0.6858   \n",
       "knn    AHP-G.       0.6703          0.9422                0.6819   \n",
       "       MCPM         0.6692          0.9404                0.6831   \n",
       "       SAC          0.6692          0.9404                0.6831   \n",
       "mlp    AHP-G.       0.7350          0.9305                0.6517   \n",
       "       MCPM         0.7361          0.9289                0.6506   \n",
       "       SAC          0.7361          0.9293                0.6644   \n",
       "rf     AHP-G.       0.7462          0.9371                0.6232   \n",
       "       MCPM         0.7461          0.9279                0.6145   \n",
       "       SAC          0.7461          0.9279                0.6145   \n",
       "svm    AHP-G.       0.6888          0.9419                0.6513   \n",
       "       MCPM         0.6788          0.9389                0.6356   \n",
       "       SAC          0.6788          0.9389                0.6356   \n",
       "xgb    AHP-G.       0.7516          0.9467                0.6281   \n",
       "       MCPM         0.7537          0.9419                0.6248   \n",
       "       SAC          0.7532          0.9431                0.6259   \n",
       "\n",
       "                  ratio_recall  ratio_odds  \n",
       "Config Selection                            \n",
       "ad     AHP-G.           0.8458      0.7488  \n",
       "       MCPM             0.8358      0.7371  \n",
       "       SAC              0.8404      0.7394  \n",
       "dt     AHP-G.           0.8399      0.7028  \n",
       "       MCPM             0.8316      0.6891  \n",
       "       SAC              0.8404      0.6983  \n",
       "knn    AHP-G.           0.8546      0.7069  \n",
       "       MCPM             0.8550      0.7081  \n",
       "       SAC              0.8550      0.7081  \n",
       "mlp    AHP-G.           0.8496      0.6848  \n",
       "       MCPM             0.8466      0.6812  \n",
       "       SAC              0.8386      0.6702  \n",
       "rf     AHP-G.           0.8640      0.6863  \n",
       "       MCPM             0.8507      0.6702  \n",
       "       SAC              0.8507      0.6702  \n",
       "svm    AHP-G.           0.7789      0.6806  \n",
       "       MCPM             0.7927      0.6540  \n",
       "       SAC              0.7927      0.6540  \n",
       "xgb    AHP-G.           0.8659      0.6990  \n",
       "       MCPM             0.8580      0.7099  \n",
       "       SAC              0.8580      0.7109  "
      ]
     },
     "execution_count": 2,
     "metadata": {},
     "output_type": "execute_result"
    }
   ],
   "source": [
    "df = report_results()\n",
    "df.groupby(by=['Config', 'Selection']).mean().round(decimals=4)"
   ]
  },
  {
   "cell_type": "markdown",
   "id": "3f2399e9",
   "metadata": {},
   "source": [
    "### Overall average"
   ]
  },
  {
   "cell_type": "code",
   "execution_count": 3,
   "id": "9c9e7d62",
   "metadata": {},
   "outputs": [
    {
     "data": {
      "text/html": [
       "<div>\n",
       "<style scoped>\n",
       "    .dataframe tbody tr th:only-of-type {\n",
       "        vertical-align: middle;\n",
       "    }\n",
       "\n",
       "    .dataframe tbody tr th {\n",
       "        vertical-align: top;\n",
       "    }\n",
       "\n",
       "    .dataframe thead th {\n",
       "        text-align: right;\n",
       "    }\n",
       "</style>\n",
       "<table border=\"1\" class=\"dataframe\">\n",
       "  <thead>\n",
       "    <tr style=\"text-align: right;\">\n",
       "      <th></th>\n",
       "      <th>f1_macro</th>\n",
       "      <th>ratio_f1_macro</th>\n",
       "      <th>ratio_selection_rate</th>\n",
       "      <th>ratio_recall</th>\n",
       "      <th>ratio_odds</th>\n",
       "    </tr>\n",
       "    <tr>\n",
       "      <th>Selection</th>\n",
       "      <th></th>\n",
       "      <th></th>\n",
       "      <th></th>\n",
       "      <th></th>\n",
       "      <th></th>\n",
       "    </tr>\n",
       "  </thead>\n",
       "  <tbody>\n",
       "    <tr>\n",
       "      <th>AHP-G.</th>\n",
       "      <td>0.7156</td>\n",
       "      <td>0.9277</td>\n",
       "      <td>0.6702</td>\n",
       "      <td>0.8427</td>\n",
       "      <td>0.7013</td>\n",
       "    </tr>\n",
       "    <tr>\n",
       "      <th>MCPM</th>\n",
       "      <td>0.7146</td>\n",
       "      <td>0.9246</td>\n",
       "      <td>0.6628</td>\n",
       "      <td>0.8386</td>\n",
       "      <td>0.6928</td>\n",
       "    </tr>\n",
       "    <tr>\n",
       "      <th>SAC</th>\n",
       "      <td>0.7141</td>\n",
       "      <td>0.9246</td>\n",
       "      <td>0.6667</td>\n",
       "      <td>0.8394</td>\n",
       "      <td>0.6930</td>\n",
       "    </tr>\n",
       "  </tbody>\n",
       "</table>\n",
       "</div>"
      ],
      "text/plain": [
       "           f1_macro  ratio_f1_macro  ratio_selection_rate  ratio_recall  \\\n",
       "Selection                                                                 \n",
       "AHP-G.       0.7156          0.9277                0.6702        0.8427   \n",
       "MCPM         0.7146          0.9246                0.6628        0.8386   \n",
       "SAC          0.7141          0.9246                0.6667        0.8394   \n",
       "\n",
       "           ratio_odds  \n",
       "Selection              \n",
       "AHP-G.         0.7013  \n",
       "MCPM           0.6928  \n",
       "SAC            0.6930  "
      ]
     },
     "execution_count": 3,
     "metadata": {},
     "output_type": "execute_result"
    }
   ],
   "source": [
    "df.groupby(by=['Selection']).mean().round(decimals=4)"
   ]
  },
  {
   "cell_type": "markdown",
   "id": "b25637e4",
   "metadata": {},
   "source": [
    "# CD Diagrams"
   ]
  },
  {
   "cell_type": "markdown",
   "id": "3bd41340",
   "metadata": {},
   "source": [
    "### Macro F1-Score"
   ]
  },
  {
   "cell_type": "code",
   "execution_count": 4,
   "id": "7c40ecce",
   "metadata": {},
   "outputs": [
    {
     "name": "stdout",
     "output_type": "stream",
     "text": [
      "(AHP-G.) Rank Average: 2.007142857142857\n",
      "(MCPM) Rank Average: 1.9785714285714286\n",
      "(SAC) Rank Average: 2.0142857142857142\n",
      "CD =  0.39615777439229577\n"
     ]
    },
    {
     "data": {
      "image/png": "[encoded data removed]",
      "text/plain": [
       "<Figure size 350x145 with 1 Axes>"
      ]
     },
     "metadata": {},
     "output_type": "display_data"
    }
   ],
   "source": [
    "cd(statistical('f1_macro'), 'cd_f1_macro')"
   ]
  },
  {
   "cell_type": "markdown",
   "id": "9513d9f7",
   "metadata": {},
   "source": [
    "### RMF1"
   ]
  },
  {
   "cell_type": "code",
   "execution_count": 5,
   "id": "9ec8cff4",
   "metadata": {},
   "outputs": [
    {
     "name": "stdout",
     "output_type": "stream",
     "text": [
      "(AHP-G.) Rank Average: 1.8928571428571428\n",
      "(MCPM) Rank Average: 2.0785714285714287\n",
      "(SAC) Rank Average: 2.0285714285714285\n",
      "CD =  0.39615777439229577\n"
     ]
    },
    {
     "data": {
      "image/png": "[encoded data removed]",
      "text/plain": [
       "<Figure size 350x145 with 1 Axes>"
      ]
     },
     "metadata": {},
     "output_type": "display_data"
    }
   ],
   "source": [
    "cd(statistical('ratio_f1_macro'), 'cd_ratio_f1_macro')"
   ]
  },
  {
   "cell_type": "markdown",
   "id": "a06918ce",
   "metadata": {},
   "source": [
    "### RPD"
   ]
  },
  {
   "cell_type": "code",
   "execution_count": 6,
   "id": "675c8968",
   "metadata": {},
   "outputs": [
    {
     "name": "stdout",
     "output_type": "stream",
     "text": [
      "(AHP-G.) Rank Average: 1.8928571428571428\n",
      "(MCPM) Rank Average: 2.092857142857143\n",
      "(SAC) Rank Average: 2.0142857142857142\n",
      "CD =  0.39615777439229577\n"
     ]
    },
    {
     "data": {
      "image/png": "[encoded data removed]",
      "text/plain": [
       "<Figure size 350x145 with 1 Axes>"
      ]
     },
     "metadata": {},
     "output_type": "display_data"
    }
   ],
   "source": [
    "cd(statistical('ratio_selection_rate'), 'cd_demographic_parity')"
   ]
  },
  {
   "cell_type": "markdown",
   "id": "c2bc7a22",
   "metadata": {},
   "source": [
    "### REO"
   ]
  },
  {
   "cell_type": "code",
   "execution_count": 7,
   "id": "72673008",
   "metadata": {},
   "outputs": [
    {
     "name": "stdout",
     "output_type": "stream",
     "text": [
      "(AHP-G.) Rank Average: 1.9285714285714286\n",
      "(MCPM) Rank Average: 2.05\n",
      "(SAC) Rank Average: 2.0214285714285714\n",
      "CD =  0.39615777439229577\n"
     ]
    },
    {
     "data": {
      "image/png": "[encoded data removed]",
      "text/plain": [
       "<Figure size 350x145 with 1 Axes>"
      ]
     },
     "metadata": {},
     "output_type": "display_data"
    }
   ],
   "source": [
    "cd(statistical('ratio_recall'), 'cd_recall')"
   ]
  },
  {
   "cell_type": "markdown",
   "id": "a35f4d34",
   "metadata": {},
   "source": [
    "### RDO"
   ]
  },
  {
   "cell_type": "code",
   "execution_count": 8,
   "id": "dd139f10",
   "metadata": {},
   "outputs": [
    {
     "name": "stdout",
     "output_type": "stream",
     "text": [
      "(AHP-G.) Rank Average: 1.9357142857142857\n",
      "(MCPM) Rank Average: 2.05\n",
      "(SAC) Rank Average: 2.0142857142857142\n",
      "CD =  0.39615777439229577\n"
     ]
    },
    {
     "data": {
      "image/png": "[encoded data removed]",
      "text/plain": [
       "<Figure size 350x145 with 1 Axes>"
      ]
     },
     "metadata": {},
     "output_type": "display_data"
    }
   ],
   "source": [
    "cd(statistical('ratio_odds'), 'cd_odds')"
   ]
  }
 ],
 "metadata": {
  "kernelspec": {
   "display_name": "Python 3 (ipykernel)",
   "language": "python",
   "name": "python3"
  },
  "language_info": {
   "codemirror_mode": {
    "name": "ipython",
    "version": 3
   },
   "file_extension": ".py",
   "mimetype": "text/x-python",
   "name": "python",
   "nbconvert_exporter": "python",
   "pygments_lexer": "ipython3",
   "version": "3.8.10"
  }
 },
 "nbformat": 4,
 "nbformat_minor": 5
}
